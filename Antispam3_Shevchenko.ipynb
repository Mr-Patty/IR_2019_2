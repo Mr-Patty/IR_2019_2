{
 "cells": [
  {
   "cell_type": "markdown",
   "metadata": {},
   "source": [
    "Построить графики распределения в спам и не спам множествах следующих признаков:\n",
    "\n",
    "1\tКоличество слов на странице\n",
    "\n",
    "2\tСредняя длинна слова\n",
    "\n",
    "3\tКоличество слов в заголовке страниц (слова в теге <html><head><title> Some text </title>)\n",
    "    \n",
    "4\tКоличество слов в анкорах ссылок (<html><body><a> Some text </a>)\n",
    "    \n",
    "5\tКоэффициент сжатия\n",
    "    \n",
    "6   Количество видео на странице\n",
    "    \n",
    "7   Количество картинок и банеров на странице\n",
    "\n",
    "Нужно посчитать статистику минимум по трем признакам и обязательно сделать для 1-го и 2-го признаков\n",
    "\n",
    "И отправить первое решение в соревнование https://kaggle.com/join/antispam_infopoisk\n",
    "На основании одного из указанных выше признаков попытаться разделить мн-во, так чтобы score в соревновании был больше 0.55\n",
    "\n",
    "При выполнении всех этих условия в течении семинара +1 балл к ДЗ\n",
    "\n",
    "Описание ДЗ и правил выставления за него баллов в https://inclass.kaggle.com/c/antispam-infopoisk  \n",
    "Сроки ДЗ уточнить у преподователя - обычно 2 недели"
   ]
  },
  {
   "cell_type": "code",
   "execution_count": 1,
   "metadata": {},
   "outputs": [],
   "source": [
    "from __future__ import division\n",
    "\n",
    "import base64\n",
    "import csv\n",
    "import gzip\n",
    "import zlib\n",
    "import functools \n",
    "import operator \n",
    "import pickle\n",
    "import pymorphy2\n",
    "import re\n",
    "\n",
    "from collections import namedtuple\n",
    "import xgboost as xgb\n",
    "from bs4 import BeautifulSoup\n",
    "from multiprocessing import Pool, Lock, Value\n",
    "from functools import wraps, reduce\n",
    "from scipy.stats import randint as sp_randint\n",
    "import numpy as np\n",
    "\n",
    "from nltk.corpus import stopwords as nltk_stopwords\n",
    "from pymystem3 import Mystem\n",
    "from tqdm import tqdm_notebook as tqdm\n",
    "\n",
    "from sklearn.model_selection import GridSearchCV\n",
    "from sklearn.model_selection import RandomizedSearchCV\n",
    "from sklearn.model_selection import ParameterGrid\n",
    "from sklearn.preprocessing import PolynomialFeatures\n",
    "from sklearn.preprocessing import StandardScaler\n",
    "from sklearn.ensemble import RandomForestClassifier\n",
    "from sklearn.ensemble import AdaBoostClassifier\n",
    "from sklearn.ensemble import GradientBoostingClassifier\n",
    "from sklearn.tree import DecisionTreeClassifier\n",
    "from sklearn.linear_model import LogisticRegression\n",
    "from sklearn.linear_model import LinearRegression\n",
    "from sklearn.neighbors import KNeighborsClassifier\n",
    "from sklearn.neural_network import MLPClassifier\n",
    "from sklearn.feature_extraction.text import TfidfVectorizer\n",
    "from xgboost import XGBClassifier\n",
    "\n",
    "\n",
    "%matplotlib inline\n",
    "import matplotlib.pyplot as plt"
   ]
  },
  {
   "cell_type": "code",
   "execution_count": 2,
   "metadata": {},
   "outputs": [],
   "source": [
    "TRACE_NUM = 100\n",
    "import logging\n",
    "# reload(logging)\n",
    "logging.basicConfig(format='%(asctime)s %(levelname)s:%(message)s', level=logging.INFO, datefmt='%H:%M:%S')\n",
    "\n",
    "def trace(items_num, trace_num=TRACE_NUM):\n",
    "    if items_num % trace_num == 0: logging.info(\"Complete items %05d\" % items_num)\n",
    "        \n",
    "def trace_worker(items_num, worker_id, trace_num=TRACE_NUM):\n",
    "    if items_num % trace_num == 0: logging.info(\"Complete items %05d in worker_id %d\" % (items_num, worker_id))\n",
    "        \n",
    "mutex = Lock()\n",
    "n_processed = Value('i', 0)\n",
    "\n",
    "def logger(func):\n",
    "    @wraps(func)\n",
    "    def wrapper(*args, **kwds):\n",
    "        res = func(*args, **kwds)\n",
    "        with mutex:\n",
    "            global n_processed\n",
    "            n_processed.value += 1\n",
    "            if n_processed.value % 10 == 0:\n",
    "                print(f\"\\r{n_processed.value} pages are processed...\",\n",
    "                      end='', flush=True)\n",
    "        return res\n",
    "    return wrapper\n"
   ]
  },
  {
   "cell_type": "markdown",
   "metadata": {},
   "source": [
    "### Утилиты"
   ]
  },
  {
   "cell_type": "markdown",
   "metadata": {},
   "source": [
    "#### Декораторы"
   ]
  },
  {
   "cell_type": "code",
   "execution_count": 3,
   "metadata": {},
   "outputs": [],
   "source": [
    "def to_utf8(text):\n",
    "    if isinstance(text, str): text = text.encode('utf-8')\n",
    "    return text\n",
    "\n",
    "def convert2unicode(f):\n",
    "    def tmp(text):\n",
    "        if not isinstance(text, str): text = text.decode('utf-8')\n",
    "        return f(text)\n",
    "    return tmp\n",
    "\n",
    "def convert2lower(f):\n",
    "    def tmp(text):        \n",
    "        return f(text.lower())\n",
    "    return tmp\n",
    "\n",
    "#P.S. Декораторы могут усложнять отладку, так что от них вполне можно отказаться и воспользоваться copy-paste"
   ]
  },
  {
   "cell_type": "markdown",
   "metadata": {},
   "source": [
    "### Извлечение текста из html"
   ]
  },
  {
   "cell_type": "code",
   "execution_count": 4,
   "metadata": {},
   "outputs": [],
   "source": [
    "def html2text_bs(raw_html):\n",
    "    from bs4 import BeautifulSoup\n",
    "    \"\"\"\n",
    "    Тут производится извлечения из html текста\n",
    "    \"\"\"\n",
    "    soup = BeautifulSoup(raw_html, \"html.parser\")\n",
    "    [s.extract() for s in soup(['script', 'style'])]\n",
    "    return soup.get_text()\n",
    "\n",
    "def html2text_bs_visible(raw_html):\n",
    "    from bs4 import BeautifulSoup\n",
    "    \"\"\"\n",
    "    Тут производится извлечения из html текста, который видим пользователю\n",
    "    \"\"\"\n",
    "    soup = BeautifulSoup(raw_html, \"html.parser\")    \n",
    "    [s.extract() for s in soup(['style', 'script', '[document]', 'head', 'title'])]\n",
    "    return soup.get_text()\n",
    "\n",
    "def html2text_boilerpipe(raw_html):\n",
    "    import boilerpipe\n",
    "    \"\"\"\n",
    "    еще одна библиотека очень хорошо извлекающая именно видимый пользователю текст,\n",
    "    но она завязана на java\n",
    "    \"\"\"\n",
    "    pass"
   ]
  },
  {
   "cell_type": "markdown",
   "metadata": {},
   "source": [
    "#### Выбираем какой метод для конвертации html в текст будет основным"
   ]
  },
  {
   "cell_type": "code",
   "execution_count": 5,
   "metadata": {},
   "outputs": [],
   "source": [
    "html2text = html2text_bs\n",
    "# html2text = html2text_parser"
   ]
  },
  {
   "cell_type": "markdown",
   "metadata": {},
   "source": [
    "#### Методы для токенизации текста"
   ]
  },
  {
   "cell_type": "code",
   "execution_count": 6,
   "metadata": {},
   "outputs": [],
   "source": [
    "@convert2lower\n",
    "@convert2unicode\n",
    "def easy_tokenizer(text):\n",
    "    word = str()\n",
    "    for symbol in text:\n",
    "        if symbol.isalnum(): word += symbol\n",
    "        elif word:\n",
    "            yield word\n",
    "            word = str()\n",
    "    if word: yield word\n",
    "\n",
    "PYMORPHY_CACHE = {}\n",
    "MORPH = None\n",
    "#hint, чтобы установка pymorphy2 не была бы обязательной\n",
    "def get_lemmatizer():\n",
    "    import pymorphy2\n",
    "    global MORPH\n",
    "    if MORPH is None: MORPH = pymorphy2.MorphAnalyzer()\n",
    "    return MORPH\n",
    "\n",
    "@convert2lower\n",
    "@convert2unicode\n",
    "def pymorphy_tokenizer(text):\n",
    "    global PYMORPHY_CACHE\n",
    "    for word in easy_tokenizer(text):\n",
    "        word_hash = hash(word)\n",
    "        if word_hash not in PYMORPHY_CACHE:\n",
    "            PYMORPHY_CACHE[word_hash] = get_lemmatizer().parse(word)[0].normal_form            \n",
    "        yield PYMORPHY_CACHE[word_hash]"
   ]
  },
  {
   "cell_type": "markdown",
   "metadata": {},
   "source": [
    "#### Основная функция, которая вызывается для преобразования html в список слов"
   ]
  },
  {
   "cell_type": "code",
   "execution_count": 7,
   "metadata": {},
   "outputs": [],
   "source": [
    "def html2word(raw_html, to_text=html2text, tokenizer=pymorphy_tokenizer):\n",
    "    return tokenizer(to_text(raw_html).lower())"
   ]
  },
  {
   "cell_type": "code",
   "execution_count": 8,
   "metadata": {},
   "outputs": [],
   "source": [
    "def safe_divide(a, b):\n",
    "    if a == 0: return 0.0\n",
    "    elif b == 0: return 0.0\n",
    "    else: return a/b\n",
    "\n",
    "def calculate_metrics(predictions, threshold):    \n",
    "    \"\"\"\n",
    "    Функция подсчета метрик\n",
    "    Параметры\n",
    "    predictions - ранки по документам\n",
    "    threshold  - порог для метрик\n",
    "    \"\"\"\n",
    "    true_positive = 0\n",
    "    false_positive = 0\n",
    "    true_negative = 0\n",
    "    false_negative = 0\n",
    "    for (url_id, mark, url, prediction) in predictions:        \n",
    "        mark_predict = prediction > threshold\n",
    "\n",
    "        if mark_predict:                     \n",
    "            if mark_predict == mark: true_positive += 1\n",
    "            else: false_positive += 1                    \n",
    "        else:                     \n",
    "            if  mark_predict == mark: true_negative += 1\n",
    "            else: false_negative += 1\n",
    "\n",
    "    class_prec  = safe_divide(true_positive, true_positive + false_positive)\n",
    "    class_recall = safe_divide(true_positive, true_positive + false_negative)\n",
    "        \n",
    "    class_F1 = safe_divide(2 * class_prec * class_recall, class_prec + class_recall)\n",
    "    \n",
    "    \n",
    "    not_class_prec = safe_divide(true_negative, true_negative + false_negative)\n",
    "    not_class_recall = safe_divide(true_negative, true_negative + false_positive)\n",
    "    \n",
    "    not_class_F1 = safe_divide(2 * not_class_prec * not_class_recall, not_class_prec + not_class_recall)\n",
    "    \n",
    "    return ( (class_prec, class_recall, class_F1), (not_class_prec, not_class_recall, not_class_F1) )\n",
    "\n",
    "def arange(start, stop, step):\n",
    "    cur_value = start\n",
    "    while True:\n",
    "        if cur_value > stop: break\n",
    "        yield cur_value\n",
    "        cur_value += step\n",
    "\n",
    "def plot_results(docs, min_threshold=-1, max_threshold=1, step=0.1, trace=False):\n",
    "    x = []\n",
    "    y_p = []\n",
    "    y_n = []\n",
    "    docs_predictions = classifier.predict_all(docs)\n",
    "    for threshold in arange(min_threshold, max_threshold, step):\n",
    "        r = calculate_metrics(docs_predictions, threshold)\n",
    "        x.append(threshold)\n",
    "        y_p.append(r[0])\n",
    "        y_n.append(r[1])        \n",
    "        if trace: \n",
    "            print('threshold %s' % threshold)\n",
    "            print( '\\tclass_prec %s, class_recall %s, class_F1 %s' % r[0])\n",
    "            print( '\\tnot_class_prec %s, not_class_recall %s, not_class_F1 %s' % r[1])\n",
    "            print( '\\t\\tMacroF1Mesure %s' % ((r[0][2] + r[1][2])/2))\n",
    "    plot_stats(x, y_p, \"Class Result\")\n",
    "    plot_stats(x, y_n, \"Not class Result\")    \n",
    "\n",
    "\n",
    "def plot_stats(x, y, title):\n",
    "    plt.figure(figsize=(10, 5))\n",
    "\n",
    "    prec, = plt.plot( x, \n",
    "                     [k[0] for k in y], \"r\", label='Precision', \n",
    "                     linewidth=1)\n",
    "    accur, = plt.plot( x, \n",
    "                      [k[1] for k in y], \"b\", label='Recall',\n",
    "                      linewidth=1)\n",
    "    f1, =    plt.plot( x, \n",
    "                      [k[2] for k in y], \"g\", label='F1',\n",
    "                      linewidth=1)\n",
    "    plt.grid(True)\n",
    "    plt.legend(handles=[prec, accur, f1])\n",
    "    plt.title(title)\n",
    "    plt.show()"
   ]
  },
  {
   "cell_type": "code",
   "execution_count": 9,
   "metadata": {},
   "outputs": [],
   "source": [
    "def html2text_bs_title(raw_html):\n",
    "    \"\"\"\n",
    "    Тут производится извлечения из html текста, который видим пользователю\n",
    "    \"\"\"\n",
    "    soup = BeautifulSoup(raw_html, \"html.parser\")    \n",
    "    txt = soup.find('title')\n",
    "#     print(type(txt.get_text()))\n",
    "    if txt is None:\n",
    "        return \"\"\n",
    "    return txt.get_text()\n",
    "\n",
    "def html2text_bs_anchor(raw_html):\n",
    "    soup = BeautifulSoup(raw_html, \"html.parser\")    \n",
    "    txt = soup.find_all('a')\n",
    "    txt = functools.reduce(lambda x,y: x+y.text, txt, \"\")\n",
    "#     print(txt)\n",
    "    if txt is None:\n",
    "        return \"\"\n",
    "    return txt"
   ]
  },
  {
   "cell_type": "code",
   "execution_count": 10,
   "metadata": {},
   "outputs": [],
   "source": [
    "mystem = Mystem()\n",
    "\n",
    "def memoized_with_single_argument(cache):\n",
    "    \"\"\"\n",
    "    Basic caching decorator. It assumes a function only accepts\n",
    "    a single argument, which is used as a cache key.\n",
    "    \"\"\"\n",
    "    def decorator(func):\n",
    "        @functools.wraps(func)\n",
    "        def wrapper(arg):\n",
    "            if arg in cache:\n",
    "                return cache[arg]\n",
    "            res = func(arg)\n",
    "            cache[arg] = res\n",
    "            return res\n",
    "        return wrapper\n",
    "    return decorator\n",
    "\n",
    "cache = {}\n",
    "\n",
    "@memoized_with_single_argument(cache)\n",
    "def mystem_lemmatization(token):\n",
    "    \"\"\"\n",
    "    Mystem lemmatizer with caching\n",
    "    \"\"\"\n",
    "#     if len(cache) % 10000 == 0:\n",
    "#         logging.info(\"Word in cache: {}\".format(len(cache)))\n",
    "    return mystem.lemmatize(token)[0]\n",
    "\n",
    "# @logger\n",
    "def text_normalization(text):\n",
    "    \n",
    "    tokens = re.findall(u'[a-zа-яё]+', text.lower(), re.U)\n",
    "    tokens = [mystem_lemmatization(token) for token in tokens]\n",
    "    \n",
    "    return tokens\n",
    "\n",
    "def calc_title(url, html_data, i):\n",
    "    try:\n",
    "        if not isinstance(html_data, str): html_data = html_data.decode('utf-8')\n",
    "    except UnicodeDecodeError:\n",
    "        print('Hi')\n",
    "        html_data = \"\"\n",
    "    title = html2text_bs_title(html_data)\n",
    "    return [title]"
   ]
  },
  {
   "cell_type": "code",
   "execution_count": 22,
   "metadata": {},
   "outputs": [],
   "source": [
    "DocItem = namedtuple('DocItem', ['doc_id', 'is_spam', 'url', 'features'])\n",
    "\n",
    "def write_html_from_csv(input_file_name, type_file='train'):\n",
    "    with gzip.open(input_file_name) if input_file_name.endswith('gz') else open(input_file_name)  as input_file:            \n",
    "        headers = input_file.readline()\n",
    "        \n",
    "        for i, line in enumerate(input_file):\n",
    "            trace(i)\n",
    "            parts = line.decode('utf-8').strip().split('\\t')\n",
    "            pageInb64 = parts[3]\n",
    "            html_data = base64.b64decode(pageInb64)\n",
    "            with open('html_'+type_file+'/{}.html'.format(i), 'w') as f:\n",
    "                try:\n",
    "                    if not isinstance(html_data, str): html_data = html_data.decode('utf-8')\n",
    "                except UnicodeDecodeError:\n",
    "                    print('Hi')\n",
    "                    html_data = \"\"\n",
    "                f.write(html_data)\n",
    "  \n",
    "@logger\n",
    "def load_multi(part):\n",
    "    calc_features_f = part[4]\n",
    "    type_file = part[3]\n",
    "    with open('html_'+type_file+'/{}.html'.format(part[5]), 'rb') as f:\n",
    "        html_data = f.read()\n",
    "        if type_file == 'train':\n",
    "            features = part[4](part[2], html_data, part[5])\n",
    "        else:\n",
    "            features = part[4](part[2], html_data, part[5] + 7044)\n",
    "    return DocItem(part[0], part[1], part[2], features)\n",
    "          \n",
    "\n",
    "def load_csv_my(input_file_name, calc_features_f, type_file='train'):\n",
    "        \n",
    "    res = []\n",
    "    with gzip.open(input_file_name) if input_file_name.endswith('gz') else open(input_file_name)  as input_file:            \n",
    "        headers = input_file.readline()\n",
    "\n",
    "        for i, line in enumerate(input_file):\n",
    "\n",
    "            parts = line.decode('utf-8').strip().split('\\t')\n",
    "            url_id = int(parts[0])                                        \n",
    "            mark = bool(int(parts[1]))                    \n",
    "            url = parts[2]\n",
    "            res.append((url_id, mark, url, type_file, calc_features_f, i))\n",
    "\n",
    "    with Pool(processes=8) as pool:\n",
    "        n_processed.value = 0\n",
    "        res = pool.map(load_multi, res)\n",
    "    return res"
   ]
  },
  {
   "cell_type": "code",
   "execution_count": 29,
   "metadata": {},
   "outputs": [
    {
     "name": "stdout",
     "output_type": "stream",
     "text": [
      "<class 'set'>\n"
     ]
    },
    {
     "ename": "TypeError",
     "evalue": "Object of type set is not JSON serializable",
     "output_type": "error",
     "traceback": [
      "\u001b[0;31m---------------------------------------------------------------------------\u001b[0m",
      "\u001b[0;31mTypeError\u001b[0m                                 Traceback (most recent call last)",
      "\u001b[0;32m<ipython-input-29-9237d73ca103>\u001b[0m in \u001b[0;36m<module>\u001b[0;34m\u001b[0m\n\u001b[1;32m     10\u001b[0m \u001b[0mprint\u001b[0m\u001b[0;34m(\u001b[0m\u001b[0mtype\u001b[0m\u001b[0;34m(\u001b[0m\u001b[0mbad_words\u001b[0m\u001b[0;34m)\u001b[0m\u001b[0;34m)\u001b[0m\u001b[0;34m\u001b[0m\u001b[0;34m\u001b[0m\u001b[0m\n\u001b[1;32m     11\u001b[0m \u001b[0;32mwith\u001b[0m \u001b[0mopen\u001b[0m\u001b[0;34m(\u001b[0m\u001b[0;34m'data.json'\u001b[0m\u001b[0;34m,\u001b[0m \u001b[0;34m'w'\u001b[0m\u001b[0;34m)\u001b[0m \u001b[0;32mas\u001b[0m \u001b[0mfp\u001b[0m\u001b[0;34m:\u001b[0m\u001b[0;34m\u001b[0m\u001b[0;34m\u001b[0m\u001b[0m\n\u001b[0;32m---> 12\u001b[0;31m     \u001b[0mjson\u001b[0m\u001b[0;34m.\u001b[0m\u001b[0mdump\u001b[0m\u001b[0;34m(\u001b[0m\u001b[0mbad_words\u001b[0m\u001b[0;34m,\u001b[0m \u001b[0mfp\u001b[0m\u001b[0;34m)\u001b[0m\u001b[0;34m\u001b[0m\u001b[0;34m\u001b[0m\u001b[0m\n\u001b[0m\u001b[1;32m     13\u001b[0m \u001b[0;34m\u001b[0m\u001b[0m\n\u001b[1;32m     14\u001b[0m \u001b[0mnum_features\u001b[0m \u001b[0;34m=\u001b[0m \u001b[0;36m1500\u001b[0m\u001b[0;34m\u001b[0m\u001b[0;34m\u001b[0m\u001b[0m\n",
      "\u001b[0;32m~/anaconda3/lib/python3.7/json/__init__.py\u001b[0m in \u001b[0;36mdump\u001b[0;34m(obj, fp, skipkeys, ensure_ascii, check_circular, allow_nan, cls, indent, separators, default, sort_keys, **kw)\u001b[0m\n\u001b[1;32m    177\u001b[0m     \u001b[0;31m# could accelerate with writelines in some versions of Python, at\u001b[0m\u001b[0;34m\u001b[0m\u001b[0;34m\u001b[0m\u001b[0;34m\u001b[0m\u001b[0m\n\u001b[1;32m    178\u001b[0m     \u001b[0;31m# a debuggability cost\u001b[0m\u001b[0;34m\u001b[0m\u001b[0;34m\u001b[0m\u001b[0;34m\u001b[0m\u001b[0m\n\u001b[0;32m--> 179\u001b[0;31m     \u001b[0;32mfor\u001b[0m \u001b[0mchunk\u001b[0m \u001b[0;32min\u001b[0m \u001b[0miterable\u001b[0m\u001b[0;34m:\u001b[0m\u001b[0;34m\u001b[0m\u001b[0;34m\u001b[0m\u001b[0m\n\u001b[0m\u001b[1;32m    180\u001b[0m         \u001b[0mfp\u001b[0m\u001b[0;34m.\u001b[0m\u001b[0mwrite\u001b[0m\u001b[0;34m(\u001b[0m\u001b[0mchunk\u001b[0m\u001b[0;34m)\u001b[0m\u001b[0;34m\u001b[0m\u001b[0;34m\u001b[0m\u001b[0m\n\u001b[1;32m    181\u001b[0m \u001b[0;34m\u001b[0m\u001b[0m\n",
      "\u001b[0;32m~/anaconda3/lib/python3.7/json/encoder.py\u001b[0m in \u001b[0;36m_iterencode\u001b[0;34m(o, _current_indent_level)\u001b[0m\n\u001b[1;32m    436\u001b[0m                     \u001b[0;32mraise\u001b[0m \u001b[0mValueError\u001b[0m\u001b[0;34m(\u001b[0m\u001b[0;34m\"Circular reference detected\"\u001b[0m\u001b[0;34m)\u001b[0m\u001b[0;34m\u001b[0m\u001b[0;34m\u001b[0m\u001b[0m\n\u001b[1;32m    437\u001b[0m                 \u001b[0mmarkers\u001b[0m\u001b[0;34m[\u001b[0m\u001b[0mmarkerid\u001b[0m\u001b[0;34m]\u001b[0m \u001b[0;34m=\u001b[0m \u001b[0mo\u001b[0m\u001b[0;34m\u001b[0m\u001b[0;34m\u001b[0m\u001b[0m\n\u001b[0;32m--> 438\u001b[0;31m             \u001b[0mo\u001b[0m \u001b[0;34m=\u001b[0m \u001b[0m_default\u001b[0m\u001b[0;34m(\u001b[0m\u001b[0mo\u001b[0m\u001b[0;34m)\u001b[0m\u001b[0;34m\u001b[0m\u001b[0;34m\u001b[0m\u001b[0m\n\u001b[0m\u001b[1;32m    439\u001b[0m             \u001b[0;32myield\u001b[0m \u001b[0;32mfrom\u001b[0m \u001b[0m_iterencode\u001b[0m\u001b[0;34m(\u001b[0m\u001b[0mo\u001b[0m\u001b[0;34m,\u001b[0m \u001b[0m_current_indent_level\u001b[0m\u001b[0;34m)\u001b[0m\u001b[0;34m\u001b[0m\u001b[0;34m\u001b[0m\u001b[0m\n\u001b[1;32m    440\u001b[0m             \u001b[0;32mif\u001b[0m \u001b[0mmarkers\u001b[0m \u001b[0;32mis\u001b[0m \u001b[0;32mnot\u001b[0m \u001b[0;32mNone\u001b[0m\u001b[0;34m:\u001b[0m\u001b[0;34m\u001b[0m\u001b[0;34m\u001b[0m\u001b[0m\n",
      "\u001b[0;32m~/anaconda3/lib/python3.7/json/encoder.py\u001b[0m in \u001b[0;36mdefault\u001b[0;34m(self, o)\u001b[0m\n\u001b[1;32m    177\u001b[0m \u001b[0;34m\u001b[0m\u001b[0m\n\u001b[1;32m    178\u001b[0m         \"\"\"\n\u001b[0;32m--> 179\u001b[0;31m         raise TypeError(f'Object of type {o.__class__.__name__} '\n\u001b[0m\u001b[1;32m    180\u001b[0m                         f'is not JSON serializable')\n\u001b[1;32m    181\u001b[0m \u001b[0;34m\u001b[0m\u001b[0m\n",
      "\u001b[0;31mTypeError\u001b[0m: Object of type set is not JSON serializable"
     ]
    }
   ],
   "source": [
    "import pickle\n",
    "\n",
    "# with open('bad_words.pickle', 'wb') as handle:\n",
    "#     pickle.dump(bad_words, handle, protocol=pickle.HIGHEST_PROTOCOL)\n",
    "\n",
    "with open('bad_words.pickle', 'rb') as handle:\n",
    "    bad_words = pickle.load(handle)\n",
    "\n",
    "import json\n",
    "print(type(bad_words))\n",
    "with open('data.json', 'w') as fp:\n",
    "    json.dump(bad_words, fp)\n",
    "    \n",
    "num_features = 1500"
   ]
  },
  {
   "cell_type": "markdown",
   "metadata": {},
   "source": [
    "# Признаки"
   ]
  },
  {
   "cell_type": "markdown",
   "metadata": {},
   "source": [
    "## Реализовано\n",
    "1\tКоличество слов на странице\n",
    "\n",
    "2\tСредняя длинна слова\n",
    "\n",
    "3\tКоличество слов в заголовке страниц (слова в теге <html><head><title> Some text </title>)\n",
    "    \n",
    "4\tКоличество слов в анкорах ссылок (<html><body><a> Some text </a>)\n",
    "    \n",
    "5\tКоэффициент сжатия\n",
    "\n",
    "    \n",
    "6   Количество банеров на странице (скриптов)    \n",
    "    \n",
    "7   Количество ссылок\n",
    "    \n",
    "8   Количество видимых слов на странице\n",
    "    \n",
    "9   Разница между количеством видимых и всех слов\n",
    "\n",
    "10  Количество картинок\n",
    "    \n",
    "Количества тегов \\<strong> \\<b>\n",
    "    \n",
    "tf-idf для заголовков\n",
    "    \n",
    "усредненные веса ключевых слов\n",
    "\n",
    "усредненние веса значимых ключевых слов\n",
    "    \n",
    "Количество спам('bad') слов в заголовках и в самих текстах\n",
    "    \n",
    "Количество точек в урле\n",
    "\n",
    "Длина урла\n",
    "    \n",
    "Присутствие html в урле\n",
    "    \n",
    "Количество слешей в урле\n",
    "    \n",
    "Попробовать tf-idf с n-gramm\n",
    "    \n",
    "Отношение количества стоп слов к общему количество слов в документе\n",
    "\n",
    "## Нереализовано    \n",
    "    \n",
    "значение метки из kmeans\n",
    "    \n",
    "Количество css   \n",
    "\n",
    "Процент одинаковых слов"
   ]
  },
  {
   "cell_type": "code",
   "execution_count": 24,
   "metadata": {},
   "outputs": [],
   "source": [
    "def calc_features(url, html_data, i):\n",
    "    \n",
    "    zip_data = zlib.compress(html_data)\n",
    "    url_len = len(url)\n",
    "    dot_in_url_count = url.count(\".\")\n",
    "    slash_number_count = url.count(\"/\")\n",
    "    dot_html_exist = 0 if url[-6:].find(\"html\")== -1 else 1\n",
    "    try:\n",
    "        if not isinstance(html_data, str): html_data = html_data.decode('utf-8')\n",
    "    except UnicodeDecodeError:\n",
    "        print('Hi')\n",
    "        html_data = \"\"\n",
    "    soup = BeautifulSoup(html_data, \"html.parser\")\n",
    "    script_num = len(soup.find_all('script'))\n",
    "    \n",
    "    [s.extract() for s in soup(['script', 'style'])]\n",
    "    title = soup.find('title')\n",
    "    if title is not None: title = title.get_text()\n",
    "    else: title = \" \"\n",
    "        \n",
    "    anchor = soup.find_all('a')\n",
    "    anchor_num = len(anchor)\n",
    "    anchor = functools.reduce(lambda x,y: x+y.text, anchor, \"\")\n",
    "    \n",
    "    words = soup.get_text()\n",
    "    words_num = len(words.split())  \n",
    "    avg_word_len = float(functools.reduce(lambda x, y: x+len(y), words, 0)) / float(words_num) if words_num != 0 else 0.0\n",
    "    percent_stopword = (float(reduce(lambda x, y: x + (1 if y in stopwords_for_features else 0), words, 0)) / words_num) if words_num != 0 else 0.0\n",
    "#     percent_same_words = len(set())\n",
    "    \n",
    "    title_words = title\n",
    "    title_words_num = len(title_words.split())\n",
    "    title_words_normalize = text_normalization(title_words)\n",
    "    num_bad_words_title = reduce(lambda x, y: x + (1 if y in bad_words else 0), title_words_normalize, 0)\n",
    "    \n",
    "    anchor_words = anchor.split()\n",
    "    anchor_words_num = len(anchor_words)\n",
    "    compression_level = float(len(zip_data)) / float(len(html_data)) if len(html_data) != 0 else 0\n",
    "    imgs = soup.find_all('img')\n",
    "    imgs_num = len(imgs)\n",
    "    \n",
    "    strong_num = len(soup.find_all('strong'))\n",
    "    b_num = len(soup.find_all('b'))\n",
    "    strong_b_sum = b_num + strong_num\n",
    "    \n",
    "    [s.extract() for s in soup(['style', 'script', '[document]', 'head', 'title'])]\n",
    "    visible_words = soup.get_text()\n",
    "    visible_words_num = len(visible_words.split()) \n",
    "    words_normalize = text_normalization(words)\n",
    "    num_bad_words_text = reduce(lambda x, y: x + (1 if y in bad_words else 0), words_normalize, 0)\n",
    "    percent_same_words = float(len(set(words_normalize))) / words_num if words_num != 0 else 0.0\n",
    "    \n",
    "    diff_words_num = words_num - visible_words_num\n",
    "    \n",
    "    print(url, url_len, dot_in_url_count, slash_number_count, dot_html_exist)\n",
    "    tf_idf_title_list = list(tf_idf_title[i])\n",
    "    tf_idf_text_list = list(tf_idf_html[i])\n",
    "    return [words_num, \n",
    "            avg_word_len, \n",
    "            title_words_num, \n",
    "            anchor_words_num, \n",
    "            compression_level, \n",
    "            script_num, \n",
    "            anchor_num, \n",
    "            visible_words_num, \n",
    "            diff_words_num, \n",
    "            imgs_num, \n",
    "            strong_num, \n",
    "            b_num, \n",
    "            strong_b_sum, \n",
    "            num_bad_words_title,\n",
    "            num_bad_words_text,\n",
    "            url_len,\n",
    "            dot_in_url_count,\n",
    "            slash_number_count,\n",
    "            dot_html_exist,\n",
    "            percent_stopword,\n",
    "            percent_same_words\n",
    "           ] "
   ]
  },
  {
   "cell_type": "code",
   "execution_count": null,
   "metadata": {},
   "outputs": [],
   "source": [
    "%%time\n",
    "\n",
    "TRAIN_DATA_FILE  = 'kaggle_train_data_tab.csv.gz'\n",
    "title_train = load_csv_my(TRAIN_DATA_FILE, calc_title)\n",
    "\n",
    "TEST_DATA_FILE  = 'kaggle_test_data_tab.csv.gz'\n",
    "title_test = load_csv_my(TEST_DATA_FILE, calc_title, 'test')"
   ]
  },
  {
   "cell_type": "code",
   "execution_count": 15,
   "metadata": {},
   "outputs": [],
   "source": [
    "stopwords_english = set(nltk_stopwords.words('english') )\n",
    "stopwords_russian = set(nltk_stopwords.words('russian') )\n",
    "stopwords = list(stopwords_russian) + list(stopwords_english)\n",
    "stopwords_for_features = set(stopwords)\n"
   ]
  },
  {
   "cell_type": "code",
   "execution_count": 17,
   "metadata": {},
   "outputs": [
    {
     "name": "stdout",
     "output_type": "stream",
     "text": [
      "23083\n"
     ]
    }
   ],
   "source": [
    "corpus = list((map(lambda x: x.features[0], title_train))) + list((map(lambda x: x.features[0], title_test)))\n",
    "print(len(corpus))\n",
    "with Pool(processes=6) as pool:\n",
    "    n_processed.value = 0\n",
    "    corpus = pool.map(text_normalization, corpus)\n",
    "corpus = np.array(list((map(lambda x: ' '.join(x), corpus))))\n",
    "\n",
    "stopwords_english = set(nltk_stopwords.words('english') )\n",
    "stopwords_russian = set(nltk_stopwords.words('russian') )\n",
    "stopwords = list(stopwords_russian) + list(stopwords_english)\n",
    "stopwords_for_features = set(stopwords)\n",
    "vectorizer_title = TfidfVectorizer(stop_words=stopwords, token_pattern=u'[a-zа-яё]+', max_features=500, ngram_range=(1,3))\n",
    "X_title = vectorizer_title.fit_transform(corpus)\n",
    "tf_idf_title = X_title.toarray()"
   ]
  },
  {
   "cell_type": "code",
   "execution_count": 18,
   "metadata": {},
   "outputs": [],
   "source": [
    "vectorizer_html = TfidfVectorizer(input='filename', stop_words=stopwords, token_pattern=u'[a-zа-яё]+', max_features=num_features, ngram_range=(1,3))\n",
    "X_html = vectorizer_html.fit_transform(list([\"tokens_train/{}.txt\".format(i) for i in range(0, 7044)]) + list([\"tokens_test/{}.txt\".format(i) for i in range(0, 16039)]))\n",
    "tf_idf_html = X_html.toarray()"
   ]
  },
  {
   "cell_type": "code",
   "execution_count": null,
   "metadata": {},
   "outputs": [],
   "source": [
    "%%time\n",
    "\n",
    "train_docs = load_csv_my(TRAIN_DATA_FILE, calc_features) \n",
    "test_docs = load_csv_my(TEST_DATA_FILE, calc_features, 'test') "
   ]
  },
  {
   "cell_type": "code",
   "execution_count": 90,
   "metadata": {},
   "outputs": [
    {
     "data": {
      "image/png": "[encoded data removed]",
      "text/plain": [
       "<Figure size 432x288 with 1 Axes>"
      ]
     },
     "metadata": {
      "needs_background": "light"
     },
     "output_type": "display_data"
    }
   ],
   "source": [
    "is_spam_data = [doc.features[0]**(1) for doc in train_docs if doc[1] == True]\n",
    "not_spam_data = [doc.features[0]**(1) for doc in train_docs if doc[1] == False]\n",
    "bins = range(0,3000,100)\n",
    "plt.hist(is_spam_data, bins=bins, color='red', density=True, alpha=0.7, label='spam')\n",
    "plt.hist(not_spam_data, bins=bins, color='blue', density=True, alpha=0.7, label='not_spam')\n",
    "plt.title('NumWords')\n",
    "plt.legend()\n",
    "plt.show()"
   ]
  },
  {
   "cell_type": "code",
   "execution_count": 91,
   "metadata": {},
   "outputs": [
    {
     "data": {
      "image/png": "[encoded data removed]",
      "text/plain": [
       "<Figure size 432x288 with 1 Axes>"
      ]
     },
     "metadata": {
      "needs_background": "light"
     },
     "output_type": "display_data"
    }
   ],
   "source": [
    "is_spam_data = [doc.features[4] for doc in train_docs if doc[1] == True]\n",
    "not_spam_data = [doc.features[4] for doc in train_docs if doc[1] == False]\n",
    "bins = 100\n",
    "plt.hist(is_spam_data, bins=bins, color='red', density=True, alpha=0.7, label='spam')\n",
    "plt.hist(not_spam_data, bins=bins, color='blue', density=True, alpha=0.7, label='not_spam')\n",
    "plt.title('Compression')\n",
    "plt.legend()\n",
    "plt.show()"
   ]
  },
  {
   "cell_type": "code",
   "execution_count": 92,
   "metadata": {},
   "outputs": [
    {
     "data": {
      "image/png": "[encoded data removed]",
      "text/plain": [
       "<Figure size 432x288 with 1 Axes>"
      ]
     },
     "metadata": {
      "needs_background": "light"
     },
     "output_type": "display_data"
    }
   ],
   "source": [
    "is_spam_data = [doc.features[5] for doc in train_docs if doc[1] == True]\n",
    "not_spam_data = [doc.features[5] for doc in train_docs if doc[1] == False]\n",
    "bins = range(0, 50, 1)\n",
    "plt.hist(is_spam_data, bins=bins, color='red', density=True, alpha=0.7, label='spam')\n",
    "plt.hist(not_spam_data, bins=bins, color='blue', density=True, alpha=0.7, label='not_spam')\n",
    "plt.title('script')\n",
    "plt.legend()\n",
    "plt.show()"
   ]
  },
  {
   "cell_type": "code",
   "execution_count": 93,
   "metadata": {},
   "outputs": [
    {
     "data": {
      "image/png": "[encoded data removed]",
      "text/plain": [
       "<Figure size 432x288 with 1 Axes>"
      ]
     },
     "metadata": {
      "needs_background": "light"
     },
     "output_type": "display_data"
    }
   ],
   "source": [
    "is_spam_data = [doc.features[6] for doc in train_docs if doc[1] == True]\n",
    "not_spam_data = [doc.features[6] for doc in train_docs if doc[1] == False]\n",
    "bins = 100\n",
    "plt.hist(is_spam_data, bins=bins, color='red', density=True, alpha=0.7, label='spam')\n",
    "plt.hist(not_spam_data, bins=bins, color='blue', density=True, alpha=0.7, label='not_spam')\n",
    "# plt.title('avg-tf-idf')\n",
    "plt.legend()\n",
    "plt.show()"
   ]
  },
  {
   "cell_type": "code",
   "execution_count": 94,
   "metadata": {},
   "outputs": [
    {
     "data": {
      "image/png": "[encoded data removed]",
      "text/plain": [
       "<Figure size 432x288 with 1 Axes>"
      ]
     },
     "metadata": {
      "needs_background": "light"
     },
     "output_type": "display_data"
    }
   ],
   "source": [
    "is_spam_data = [doc.features[15] for doc in train_docs if doc[1] == True]\n",
    "not_spam_data = [doc.features[15] for doc in train_docs if doc[1] == False]\n",
    "bins = 100\n",
    "plt.hist(is_spam_data, bins=bins, color='red', density=True, alpha=0.7, label='spam')\n",
    "plt.hist(not_spam_data, bins=bins, color='blue', density=True, alpha=0.7, label='not_spam')\n",
    "# plt.title('avg-sig-tf-idf')\n",
    "plt.legend()\n",
    "plt.show()"
   ]
  },
  {
   "cell_type": "code",
   "execution_count": 95,
   "metadata": {},
   "outputs": [
    {
     "data": {
      "image/png": "[encoded data removed]",
      "text/plain": [
       "<Figure size 432x288 with 1 Axes>"
      ]
     },
     "metadata": {
      "needs_background": "light"
     },
     "output_type": "display_data"
    }
   ],
   "source": [
    "is_spam_data = [doc.features[13] for doc in train_docs if doc[1] == True]\n",
    "not_spam_data = [doc.features[13] for doc in train_docs if doc[1] == False]\n",
    "bins = range(0, 10, 1)\n",
    "plt.hist(is_spam_data, bins=bins, color='red', density=True, alpha=0.7, label='spam')\n",
    "plt.hist(not_spam_data, bins=bins, color='blue', density=True, alpha=0.7, label='not_spam')\n",
    "plt.title('bad-word-in-title')\n",
    "plt.legend()\n",
    "plt.show()"
   ]
  },
  {
   "cell_type": "code",
   "execution_count": 96,
   "metadata": {},
   "outputs": [
    {
     "data": {
      "image/png": "[encoded data removed]",
      "text/plain": [
       "<Figure size 432x288 with 1 Axes>"
      ]
     },
     "metadata": {
      "needs_background": "light"
     },
     "output_type": "display_data"
    }
   ],
   "source": [
    "is_spam_data = [doc.features[15] for doc in train_docs if doc[1] == True]\n",
    "not_spam_data = [doc.features[15] for doc in train_docs if doc[1] == False]\n",
    "bins = range(0, 100, 10)\n",
    "plt.hist(is_spam_data, bins=bins, color='red', density=True, alpha=0.7, label='spam')\n",
    "plt.hist(not_spam_data, bins=bins, color='blue', density=True, alpha=0.7, label='not_spam')\n",
    "plt.title('bad-word-in-text')\n",
    "plt.legend()\n",
    "plt.show()"
   ]
  },
  {
   "cell_type": "code",
   "execution_count": 97,
   "metadata": {},
   "outputs": [
    {
     "data": {
      "image/png": "[encoded data removed]",
      "text/plain": [
       "<Figure size 432x288 with 1 Axes>"
      ]
     },
     "metadata": {
      "needs_background": "light"
     },
     "output_type": "display_data"
    }
   ],
   "source": [
    "is_spam_data = [doc.features[19] for doc in train_docs if doc[1] == True]\n",
    "not_spam_data = [doc.features[19] for doc in train_docs if doc[1] == False]\n",
    "bins = 100\n",
    "plt.hist(is_spam_data, bins=bins, color='red', density=True, alpha=0.7, label='spam')\n",
    "plt.hist(not_spam_data, bins=bins, color='blue', density=True, alpha=0.7, label='not_spam')\n",
    "# plt.title('percent-stopwords')\n",
    "plt.legend()\n",
    "plt.show()"
   ]
  },
  {
   "cell_type": "code",
   "execution_count": 110,
   "metadata": {},
   "outputs": [
    {
     "data": {
      "image/png": "[encoded data removed]",
      "text/plain": [
       "<Figure size 432x288 with 1 Axes>"
      ]
     },
     "metadata": {
      "needs_background": "light"
     },
     "output_type": "display_data"
    }
   ],
   "source": [
    "is_spam_data = [doc.features[20] for doc in train_docs if doc[1] == True]\n",
    "not_spam_data = [doc.features[20] for doc in train_docs if doc[1] == False]\n",
    "bins = 100\n",
    "plt.hist(is_spam_data, bins=bins, color='red', density=True, alpha=0.7, label='spam')\n",
    "plt.hist(not_spam_data, bins=bins, color='blue', density=True, alpha=0.7, label='not_spam')\n",
    "plt.title('percent-stopwords')\n",
    "plt.legend()\n",
    "plt.show()"
   ]
  },
  {
   "cell_type": "code",
   "execution_count": 25,
   "metadata": {},
   "outputs": [],
   "source": [
    "# not used\n",
    "from sklearn import tree\n",
    "import numpy as np\n",
    "from sklearn.metrics import accuracy_score, f1_score\n",
    "from sklearn.ensemble import RandomForestClassifier\n",
    "\n",
    "class Classifier:\n",
    "    \n",
    "    def __init__(self, clf=tree.DecisionTreeClassifier()):\n",
    "        self.clf = clf\n",
    "\n",
    "    def predict(self, doc):        \n",
    "        return self.clf.predict(np.array(doc.features).reshape(1, -1))                     \n",
    "    \n",
    "    def predict_all(self, docs):\n",
    "        res = []\n",
    "        for doc_num, doc in enumerate(docs):\n",
    "            trace(doc_num)\n",
    "            prediction = self.predict(doc)            \n",
    "            res.append( (doc.doc_id, doc.is_spam, doc.url, prediction) )\n",
    "        return res\n",
    "    \n",
    "    def train(self, docs):\n",
    "        X = []\n",
    "        Y = []\n",
    "        for doc_num, doc in enumerate(docs):\n",
    "            X.append(doc.features)\n",
    "            Y.append(doc.is_spam)\n",
    "        self.clf = self.clf.fit(X, Y)\n",
    "        self.X_test = X\n",
    "        self.Y_test = Y\n",
    "\n",
    "    def score(self):\n",
    "        return f1_score(y_pred=self.clf.predict(self.X_test), y_true=self.Y_test, average='macro')"
   ]
  },
  {
   "cell_type": "code",
   "execution_count": 20,
   "metadata": {},
   "outputs": [],
   "source": [
    "X_train = []\n",
    "Y_train = []\n",
    "for doc_num, doc in enumerate(train_docs):\n",
    "    X_train.append(doc.features)\n",
    "    Y_train.append(doc.is_spam)\n",
    "X_train = np.array(X_train)\n",
    "Y_train = np.array(Y_train)\n",
    "\n",
    "X_test = []\n",
    "Docs_id = []\n",
    "for doc_num, doc in enumerate(test_docs):\n",
    "    X_test.append(doc.features)\n",
    "    Docs_id.append(doc.doc_id)\n",
    "X_test = np.array(X_test)"
   ]
  },
  {
   "cell_type": "code",
   "execution_count": 100,
   "metadata": {},
   "outputs": [],
   "source": [
    "average_tf_idf = (np.sum(tf_idf_html, axis=1) / num_features).reshape(-1, 1)\n",
    "average_significant_tf_idf_ten = (np.sum(np.sort(tf_idf_html, axis=1)[:,-10:], axis=1) / 10).reshape(-1, 1) \n",
    "average_significant_tf_idf_twelve = (np.sum(np.sort(tf_idf_html, axis=1)[:,-20:], axis=1) / 20 ).reshape(-1, 1)"
   ]
  },
  {
   "cell_type": "code",
   "execution_count": 101,
   "metadata": {},
   "outputs": [
    {
     "name": "stdout",
     "output_type": "stream",
     "text": [
      "(7044, 24)\n",
      "(16039, 24)\n"
     ]
    }
   ],
   "source": [
    "X_train = np.concatenate((X_train, \n",
    "                          average_tf_idf[:7044], \n",
    "                          average_significant_tf_idf_ten[:7044], \n",
    "                          average_significant_tf_idf_twelve[:7044]), axis=1)\n",
    "print(X_train.shape)\n",
    "\n",
    "X_test = np.concatenate((X_test, \n",
    "                         average_tf_idf[7044:23083], \n",
    "                         average_significant_tf_idf_ten[7044:23083], \n",
    "                         average_significant_tf_idf_twelve[7044:23083]), axis=1)\n",
    "print(X_test.shape)"
   ]
  },
  {
   "cell_type": "code",
   "execution_count": 108,
   "metadata": {},
   "outputs": [
    {
     "data": {
      "image/png": "[encoded data removed]",
      "text/plain": [
       "<Figure size 432x288 with 1 Axes>"
      ]
     },
     "metadata": {
      "needs_background": "light"
     },
     "output_type": "display_data"
    }
   ],
   "source": [
    "is_spam_data = [X_train[i, 23] for i in range(0, X_train.shape[0]) if Y_train[i] == True]\n",
    "not_spam_data = [X_train[i, 23] for i in range(0, X_train.shape[0]) if Y_train[i] == False]\n",
    "bins = 100\n",
    "plt.hist(is_spam_data, bins=bins, color='red', density=True, alpha=0.7, label='spam')\n",
    "plt.hist(not_spam_data, bins=bins, color='blue', density=True, alpha=0.7, label='not_spam')\n",
    "plt.title('avg-sig-tf-idf')\n",
    "plt.legend()\n",
    "plt.show()"
   ]
  },
  {
   "cell_type": "code",
   "execution_count": 22,
   "metadata": {},
   "outputs": [
    {
     "name": "stdout",
     "output_type": "stream",
     "text": [
      "(7044, 1501)\n",
      "(16039, 1501)\n"
     ]
    }
   ],
   "source": [
    "X_train = np.concatenate((X_train,  \n",
    "                          tf_idf_html[:7044], \n",
    "                          tf_idf_title[:7044]\n",
    "                         ), axis=1)\n",
    "print(X_train.shape)\n",
    "\n",
    "X_test = np.concatenate((X_test,  \n",
    "                         tf_idf_html[7044:23083,:], \n",
    "                         tf_idf_title[7044:23083,:]\n",
    "                        ), axis=1)\n",
    "print(X_test.shape)"
   ]
  },
  {
   "cell_type": "code",
   "execution_count": null,
   "metadata": {
    "scrolled": true
   },
   "outputs": [],
   "source": [
    "%%time\n",
    "# param_dist = {'max_depth': sp_randint(1, 50),\n",
    "#               'n_estimators': sp_randint(100, 1000),\n",
    "#               'min_samples_leaf': sp_randint(2, 10),\n",
    "#               \"min_samples_split\": sp_randint(2, 10),\n",
    "#               \"bootstrap\": [True, False],\n",
    "#               \"criterion\": [\"gini\", \"entropy\"]} # RandomForestClassifier\n",
    "\n",
    "# param_dist = {'n_estimators': sp_randint(1, 1000),\n",
    "#              'learning_rate': [0.95, 1.0, 1.05]\n",
    "#              } # Adaboost\n",
    "\n",
    "# param_dist = {'max_depth': sp_randint(3, 20),\n",
    "#               'n_estimators': sp_randint(100, 2000),\n",
    "#               'n_jobs': [6]\n",
    "#              }  # XGBClassifier\n",
    "\n",
    "# param_dist = {'hidden_layer_sizes': (10, 3),\n",
    "#               'learning_rate_init': [0.0001],\n",
    "# #               'batch_size': sp_randint(32, 500),\n",
    "# #               'max_iter': sp_randint(100, 500),\n",
    "#              } # mlp\n",
    "\n",
    "# param_dist = {\"loss\" : [\"deviance\", \"exponential\"],\n",
    "#               'learning_rate': [0.1, 0.01, 0.001],\n",
    "#               'n_estimators': sp_randint(100, 200),\n",
    "#               \"min_samples_split\": sp_randint(2, 3),\n",
    "#               'min_samples_leaf': sp_randint(1, 3),\n",
    "#               \"max_depth\": sp_randint(2, 10),\n",
    "\n",
    "#              } # GradientBoostingClassifier\n",
    "param_dist = {'C': [10.0, 20.0, 15.0],\n",
    "              'max_iter': sp_randint(100, 200),\n",
    "              'solver': ['newton-cg', 'lbfgs', 'liblinear', 'sag', 'saga']\n",
    "             } # LogisticRegression\n",
    "\n",
    "\n",
    "n_iter_search = 100\n",
    "clf = LogisticRegression()\n",
    "search = RandomizedSearchCV(clf, param_distributions=param_dist, n_iter=n_iter_search, n_jobs=-1, cv=5, scoring='f1', random_state=123)\n",
    "\n",
    "search.fit(X_train, Y_train)\n",
    "print(search.best_params_)\n",
    "print(search.best_score_)\n",
    "best_model = search.best_estimator_\n",
    "print(best_model)"
   ]
  },
  {
   "cell_type": "code",
   "execution_count": null,
   "metadata": {},
   "outputs": [],
   "source": [
    "%%time\n",
    "xgb_model = XGBClassifier(n_estimators=1200, max_deepth=12, n_jobs=-1)\n",
    "xgb_model.fit(X_train, Y_train)\n"
   ]
  },
  {
   "cell_type": "code",
   "execution_count": null,
   "metadata": {},
   "outputs": [],
   "source": [
    "y_pred = xgb_model.predict(X_test)\n",
    "\n",
    "with open('my_submission.csv' , 'w') as fout:\n",
    "    writer = csv.writer(fout)\n",
    "    writer.writerow(['Id','Prediction'])\n",
    "    for i, doc_id in enumerate(Docs_id):\n",
    "        prediction = 1 if y_pred[i] else 0\n",
    "        writer.writerow([doc_id, prediction])"
   ]
  }
 ],
 "metadata": {
  "kernelspec": {
   "display_name": "Python 3",
   "language": "python",
   "name": "python3"
  },
  "language_info": {
   "codemirror_mode": {
    "name": "ipython",
    "version": 3
   },
   "file_extension": ".py",
   "mimetype": "text/x-python",
   "name": "python",
   "nbconvert_exporter": "python",
   "pygments_lexer": "ipython3",
   "version": "3.7.4"
  }
 },
 "nbformat": 4,
 "nbformat_minor": 4
}
